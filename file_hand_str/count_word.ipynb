{
 "cells": [
  {
   "cell_type": "code",
   "execution_count": 25,
   "metadata": {},
   "outputs": [],
   "source": [
    "f = open('text.txt')"
   ]
  },
  {
   "cell_type": "code",
   "execution_count": 26,
   "metadata": {},
   "outputs": [
    {
     "data": {
      "text/plain": [
       "'jfbgvui uugrfpiuerg 5446546546\\nfgrtht tggwth 235465\\nrhgyrgm etjhu\\negt egjn 53756   12  \\n'"
      ]
     },
     "execution_count": 26,
     "metadata": {},
     "output_type": "execute_result"
    }
   ],
   "source": [
    "data = f.read()\n",
    "data"
   ]
  },
  {
   "cell_type": "code",
   "execution_count": 27,
   "metadata": {},
   "outputs": [
    {
     "data": {
      "text/plain": [
       "12"
      ]
     },
     "execution_count": 27,
     "metadata": {},
     "output_type": "execute_result"
    }
   ],
   "source": [
    "data.count(' ')"
   ]
  },
  {
   "cell_type": "code",
   "execution_count": 28,
   "metadata": {},
   "outputs": [
    {
     "data": {
      "text/plain": [
       "['jfbgvui uugrfpiuerg 5446546546',\n",
       " 'fgrtht tggwth 235465',\n",
       " 'rhgyrgm etjhu',\n",
       " 'egt egjn 53756   12  ',\n",
       " '']"
      ]
     },
     "execution_count": 28,
     "metadata": {},
     "output_type": "execute_result"
    }
   ],
   "source": [
    "ld = data.split('\\n')\n",
    "ld"
   ]
  },
  {
   "cell_type": "code",
   "execution_count": 29,
   "metadata": {},
   "outputs": [
    {
     "data": {
      "text/plain": [
       "30"
      ]
     },
     "execution_count": 29,
     "metadata": {},
     "output_type": "execute_result"
    }
   ],
   "source": [
    "len(ld[0])"
   ]
  },
  {
   "cell_type": "code",
   "execution_count": 30,
   "metadata": {},
   "outputs": [
    {
     "data": {
      "text/plain": [
       "'jfbgvui uugrfpiuerg 5446546546'"
      ]
     },
     "execution_count": 30,
     "metadata": {},
     "output_type": "execute_result"
    }
   ],
   "source": [
    "ld[0]"
   ]
  },
  {
   "cell_type": "code",
   "execution_count": 31,
   "metadata": {},
   "outputs": [
    {
     "name": "stdout",
     "output_type": "stream",
     "text": [
      "['jfbgvui', 'uugrfpiuerg', '5446546546'] 3\n"
     ]
    }
   ],
   "source": [
    "word_in_1st_line = ld[0].split(' ')\n",
    "print(word_in_1st_line, len(word_in_1st_line))"
   ]
  },
  {
   "cell_type": "code",
   "execution_count": 32,
   "metadata": {},
   "outputs": [
    {
     "name": "stdout",
     "output_type": "stream",
     "text": [
      "['jfbgvui', 'uugrfpiuerg', '5446546546'] 3\n",
      "['fgrtht', 'tggwth', '235465'] 3\n",
      "['rhgyrgm', 'etjhu'] 2\n",
      "['egt', 'egjn', '53756', '', '', '12', '', ''] 8\n",
      "[''] 1\n"
     ]
    }
   ],
   "source": [
    "for e in ld:\n",
    "    word_sepBy_space = e.split(' ')\n",
    "    print(word_sepBy_space,len(word_sepBy_space))"
   ]
  },
  {
   "cell_type": "code",
   "execution_count": 33,
   "metadata": {},
   "outputs": [
    {
     "name": "stdout",
     "output_type": "stream",
     "text": [
      "17\n"
     ]
    }
   ],
   "source": [
    "count_word = 0\n",
    "\n",
    "for e in ld:\n",
    "    word_sepBy_space = e.split(' ')\n",
    "    no_word_in_current_line = len(word_sepBy_space)\n",
    "\n",
    "    count_word = count_word + no_word_in_current_line\n",
    "\n",
    "print(count_word)\n"
   ]
  }
 ],
 "metadata": {
  "interpreter": {
   "hash": "b74f38822809ca41b4a6ba33c89e9a0da2e22ef6f0cd31508e86f55e518ec18a"
  },
  "kernelspec": {
   "display_name": "Python 3.8.10 ('scrap_env')",
   "language": "python",
   "name": "python3"
  },
  "language_info": {
   "codemirror_mode": {
    "name": "ipython",
    "version": 3
   },
   "file_extension": ".py",
   "mimetype": "text/x-python",
   "name": "python",
   "nbconvert_exporter": "python",
   "pygments_lexer": "ipython3",
   "version": "3.8.10"
  },
  "orig_nbformat": 4
 },
 "nbformat": 4,
 "nbformat_minor": 2
}
