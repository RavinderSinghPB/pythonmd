{
 "cells": [
  {
   "cell_type": "code",
   "execution_count": 2,
   "metadata": {},
   "outputs": [
    {
     "name": "stdout",
     "output_type": "stream",
     "text": [
      "dict_items([('name', 'ravi'), ('add', 'gkp'), ('dis', 'gkpdis'), ('satte', 'up'), ('pin', 273001), (123, 'onetwothree')])\n"
     ]
    }
   ],
   "source": [
    "d={\"name\":\"ravi\",\"add\":\"gkp\",\"dis\":\"gkpdis\",\"satte\":\"up\",\"pin\":273001,123:\"onetwothree\"}\n",
    "print(d.items())"
   ]
  },
  {
   "cell_type": "code",
   "execution_count": null,
   "metadata": {},
   "outputs": [],
   "source": [
    "[('name', 'ravi'), ('add', 'gkp'), ('dis', 'gkpdis'), ('satte', 'up'), ('pin', 273001), (123, 'onetwothree')]"
   ]
  },
  {
   "cell_type": "code",
   "execution_count": 5,
   "metadata": {},
   "outputs": [
    {
     "name": "stdout",
     "output_type": "stream",
     "text": [
      "name  =  ravi\n",
      "add  =  gkp\n",
      "dis  =  gkpdis\n",
      "satte  =  up\n",
      "pin  =  273001\n",
      "123  =  onetwothree\n"
     ]
    }
   ],
   "source": [
    "for k,v in d.items():\n",
    "    print(k,' = ',v)\n",
    "\n"
   ]
  }
 ],
 "metadata": {
  "interpreter": {
   "hash": "b74f38822809ca41b4a6ba33c89e9a0da2e22ef6f0cd31508e86f55e518ec18a"
  },
  "kernelspec": {
   "display_name": "Python 3.8.10 ('scrap_env')",
   "language": "python",
   "name": "python3"
  },
  "language_info": {
   "codemirror_mode": {
    "name": "ipython",
    "version": 3
   },
   "file_extension": ".py",
   "mimetype": "text/x-python",
   "name": "python",
   "nbconvert_exporter": "python",
   "pygments_lexer": "ipython3",
   "version": "3.8.10"
  },
  "orig_nbformat": 4
 },
 "nbformat": 4,
 "nbformat_minor": 2
}
