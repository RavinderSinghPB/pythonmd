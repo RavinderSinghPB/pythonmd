{
 "cells": [
  {
   "cell_type": "code",
   "execution_count": 3,
   "metadata": {},
   "outputs": [
    {
     "name": "stdout",
     "output_type": "stream",
     "text": [
      "division by zero\n"
     ]
    }
   ],
   "source": [
    "nos = input('enter 2 num:  ')\n",
    "n1,n2 = nos.split()\n",
    "\n",
    "try:\n",
    "    n1,n2 = int(n1),int(n2)\n",
    "    ans = n1/n2\n",
    "\n",
    "    print(ans)\n",
    "except Exception as e:\n",
    "    print(e)"
   ]
  },
  {
   "cell_type": "code",
   "execution_count": 8,
   "metadata": {},
   "outputs": [
    {
     "name": "stdout",
     "output_type": "stream",
     "text": [
      "invalid literal for int() with base 10: 'dgffd'\n"
     ]
    }
   ],
   "source": [
    "nos = input('enter 2 num:  ')\n",
    "n1,n2 = nos.split()\n",
    "\n",
    "try:\n",
    "    n1,n2 = int(n1),int(n2)\n",
    "    ans = n1/n2\n",
    "\n",
    "    print(ans)\n",
    "except TypeError:     #\n",
    "    print('int not conver')\n",
    "except ZeroDivisionError:\n",
    "    print('divisior cant be 0')\n",
    "except Exception as e:\n",
    "    print(e)\n"
   ]
  },
  {
   "cell_type": "code",
   "execution_count": 7,
   "metadata": {},
   "outputs": [
    {
     "name": "stdout",
     "output_type": "stream",
     "text": [
      "divisior cant be 0\n",
      "success\n"
     ]
    }
   ],
   "source": [
    "nos = input('enter 2 num:  ')\n",
    "n1,n2 = nos.split()\n",
    "\n",
    "try:\n",
    "    n1,n2 = int(n1),int(n2)\n",
    "    ans = n1/n2\n",
    "\n",
    "    print(ans)\n",
    "except ZeroDivisionError:\n",
    "    print('divisior cant be 0')\n",
    "except Exception as e:\n",
    "    print(e)\n",
    "finally:\n",
    "    print('success')"
   ]
  },
  {
   "cell_type": "code",
   "execution_count": 9,
   "metadata": {},
   "outputs": [
    {
     "name": "stdout",
     "output_type": "stream",
     "text": [
      "exception aaya\n"
     ]
    }
   ],
   "source": [
    "nos = input('enter 2 num:  ')\n",
    "n1,n2 = nos.split()\n",
    "\n",
    "try:\n",
    "    n1,n2 = int(n1),int(n2)\n",
    "    if n1<n2:\n",
    "        raise Exception('divisor is greater tan dividend')\n",
    "except:\n",
    "    print('exception aaya')"
   ]
  },
  {
   "cell_type": "code",
   "execution_count": 11,
   "metadata": {},
   "outputs": [
    {
     "name": "stdout",
     "output_type": "stream",
     "text": [
      "exception aaya:  divisor is greater tan dividend\n"
     ]
    }
   ],
   "source": [
    "nos = input('enter 2 num:  ')\n",
    "n1,n2 = nos.split()\n",
    "\n",
    "try:\n",
    "    n1,n2 = int(n1),int(n2)\n",
    "    if n1<n2:\n",
    "        raise Exception('divisor is greater tan dividend')\n",
    "except Exception as e:\n",
    "    print('exception aaya: ',e)"
   ]
  }
 ],
 "metadata": {
  "interpreter": {
   "hash": "b74f38822809ca41b4a6ba33c89e9a0da2e22ef6f0cd31508e86f55e518ec18a"
  },
  "kernelspec": {
   "display_name": "Python 3.8.10 ('scrap_env')",
   "language": "python",
   "name": "python3"
  },
  "language_info": {
   "codemirror_mode": {
    "name": "ipython",
    "version": 3
   },
   "file_extension": ".py",
   "mimetype": "text/x-python",
   "name": "python",
   "nbconvert_exporter": "python",
   "pygments_lexer": "ipython3",
   "version": "3.8.10"
  },
  "orig_nbformat": 4
 },
 "nbformat": 4,
 "nbformat_minor": 2
}
