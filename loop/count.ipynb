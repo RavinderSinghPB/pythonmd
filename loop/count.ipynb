{
 "cells": [
  {
   "cell_type": "code",
   "execution_count": 1,
   "metadata": {},
   "outputs": [],
   "source": [
    "l = [12,225,35,14,36,48,36,'',2132,' ']"
   ]
  },
  {
   "cell_type": "code",
   "execution_count": 3,
   "metadata": {},
   "outputs": [
    {
     "name": "stdout",
     "output_type": "stream",
     "text": [
      "7\n"
     ]
    }
   ],
   "source": [
    "def fin_len(l):\n",
    "    lnth = 0\n",
    "\n",
    "    for e in l:\n",
    "        lnth+=1\n",
    "\n",
    "    return lnth\n",
    "\n",
    "lenth = fin_len(l)\n",
    "print(lenth)"
   ]
  }
 ],
 "metadata": {
  "interpreter": {
   "hash": "b74f38822809ca41b4a6ba33c89e9a0da2e22ef6f0cd31508e86f55e518ec18a"
  },
  "kernelspec": {
   "display_name": "Python 3.8.10 ('scrap_env')",
   "language": "python",
   "name": "python3"
  },
  "language_info": {
   "codemirror_mode": {
    "name": "ipython",
    "version": 3
   },
   "file_extension": ".py",
   "mimetype": "text/x-python",
   "name": "python",
   "nbconvert_exporter": "python",
   "pygments_lexer": "ipython3",
   "version": "3.8.10"
  },
  "orig_nbformat": 4
 },
 "nbformat": 4,
 "nbformat_minor": 2
}
